{
  "nbformat": 4,
  "nbformat_minor": 0,
  "metadata": {
    "colab": {
      "provenance": [],
      "authorship_tag": "ABX9TyPpZAeWeH4jRvi1NeD2Ggj0",
      "include_colab_link": true
    },
    "kernelspec": {
      "name": "python3",
      "display_name": "Python 3"
    },
    "language_info": {
      "name": "python"
    }
  },
  "cells": [
    {
      "cell_type": "markdown",
      "metadata": {
        "id": "view-in-github",
        "colab_type": "text"
      },
      "source": [
        "<a href=\"https://colab.research.google.com/github/Basilisa1008/Pytorch-Beginner/blob/main/Tensor_math.ipynb\" target=\"_parent\"><img src=\"https://colab.research.google.com/assets/colab-badge.svg\" alt=\"Open In Colab\"/></a>"
      ]
    },
    {
      "cell_type": "markdown",
      "source": [
        "***Math Operations with Tensors !***\n",
        "\n",
        "**Key Point to Remember here are:**\n",
        "\n",
        "1. Basic Operations:\n",
        "\n",
        "  - Use +, -, *, /   for element-wise operations\n",
        "Use @ or torch.matmul() for matrix multiplication\n",
        "torch.add(), torch.sub(), etc. are alternative syntax\n",
        "\n",
        "\n",
        "2. Statistical Operations:\n",
        "\n",
        "  - Most statistical operations require float tensors\n",
        "Use dim parameter to specify operation direction\n",
        "Common functions: mean(), sum(), std(), var()\n",
        "\n",
        "\n",
        "3. Dimensional Operations:\n",
        "\n",
        "  - dim=0 operates on columns\n",
        "  - dim=1 operates on rows\n",
        "  - Can use negative dimensions (-1 = last dimension)\n",
        "\n",
        "\n",
        "4. Shape Manipulation:\n",
        "\n",
        " - reshape() changes tensor shape\n",
        " - t() transposes 2D tensors\n",
        "  - permute() for more complex transpositions"
      ],
      "metadata": {
        "id": "Apy4LsXkDlgG"
      }
    },
    {
      "cell_type": "code",
      "execution_count": 3,
      "metadata": {
        "id": "REzgSGuqDf2N"
      },
      "outputs": [],
      "source": [
        "import torch"
      ]
    },
    {
      "cell_type": "code",
      "source": [
        "a = torch.tensor([1,2,3,4,5])\n",
        "b = torch.tensor([20,40,60,80,100])\n",
        "\n",
        "# two options\n",
        "a + b   # option 1\n",
        "\n",
        "c = torch.add(a,b)   # option 2\n",
        "c"
      ],
      "metadata": {
        "colab": {
          "base_uri": "https://localhost:8080/"
        },
        "id": "ZapbGZei14Nt",
        "outputId": "faf8205d-3ac6-4be3-94ce-f38e42931490"
      },
      "execution_count": 6,
      "outputs": [
        {
          "output_type": "execute_result",
          "data": {
            "text/plain": [
              "tensor([ 21,  42,  63,  84, 105])"
            ]
          },
          "metadata": {},
          "execution_count": 6
        }
      ]
    },
    {
      "cell_type": "code",
      "source": [
        "a-b"
      ],
      "metadata": {
        "colab": {
          "base_uri": "https://localhost:8080/"
        },
        "id": "30l1VIAf3VyN",
        "outputId": "0873a4ba-728c-40e0-e1a5-f32183c0a1e2"
      },
      "execution_count": 7,
      "outputs": [
        {
          "output_type": "execute_result",
          "data": {
            "text/plain": [
              "tensor([-19, -38, -57, -76, -95])"
            ]
          },
          "metadata": {},
          "execution_count": 7
        }
      ]
    },
    {
      "cell_type": "code",
      "source": [
        "d = torch.sub(a,b)\n",
        "d"
      ],
      "metadata": {
        "colab": {
          "base_uri": "https://localhost:8080/"
        },
        "id": "imAdXOX_4IhS",
        "outputId": "95e139aa-26b5-4695-bab6-3a35749f3401"
      },
      "execution_count": 8,
      "outputs": [
        {
          "output_type": "execute_result",
          "data": {
            "text/plain": [
              "tensor([-19, -38, -57, -76, -95])"
            ]
          },
          "metadata": {},
          "execution_count": 8
        }
      ]
    },
    {
      "cell_type": "code",
      "source": [
        "a*b"
      ],
      "metadata": {
        "colab": {
          "base_uri": "https://localhost:8080/"
        },
        "id": "bQ5QAuxH4Tkr",
        "outputId": "ee354a8b-e60b-4bea-8bc1-be6bd2cdac2f"
      },
      "execution_count": 9,
      "outputs": [
        {
          "output_type": "execute_result",
          "data": {
            "text/plain": [
              "tensor([ 20,  80, 180, 320, 500])"
            ]
          },
          "metadata": {},
          "execution_count": 9
        }
      ]
    },
    {
      "cell_type": "code",
      "source": [
        "e = torch.mul(a,b)\n",
        "e"
      ],
      "metadata": {
        "colab": {
          "base_uri": "https://localhost:8080/"
        },
        "id": "hORVZ8Fe4Xyb",
        "outputId": "9334bda8-b7e2-4d84-a5ac-19043538d4d0"
      },
      "execution_count": 11,
      "outputs": [
        {
          "output_type": "execute_result",
          "data": {
            "text/plain": [
              "tensor([ 20,  80, 180, 320, 500])"
            ]
          },
          "metadata": {},
          "execution_count": 11
        }
      ]
    },
    {
      "cell_type": "code",
      "source": [
        "a / b"
      ],
      "metadata": {
        "colab": {
          "base_uri": "https://localhost:8080/"
        },
        "id": "WzJ5s6lY4glu",
        "outputId": "01c4f28a-cf41-4bf6-dc60-b573e432ba32"
      },
      "execution_count": 12,
      "outputs": [
        {
          "output_type": "execute_result",
          "data": {
            "text/plain": [
              "tensor([0.0500, 0.0500, 0.0500, 0.0500, 0.0500])"
            ]
          },
          "metadata": {},
          "execution_count": 12
        }
      ]
    },
    {
      "cell_type": "code",
      "source": [
        "f = torch.div(a,b)\n",
        "f"
      ],
      "metadata": {
        "colab": {
          "base_uri": "https://localhost:8080/"
        },
        "id": "zXly95Pe4j_S",
        "outputId": "86b1c6f3-8ca1-407a-de5b-b7bfa73e418a"
      },
      "execution_count": 13,
      "outputs": [
        {
          "output_type": "execute_result",
          "data": {
            "text/plain": [
              "tensor([0.0500, 0.0500, 0.0500, 0.0500, 0.0500])"
            ]
          },
          "metadata": {},
          "execution_count": 13
        }
      ]
    },
    {
      "cell_type": "code",
      "source": [
        " b % a"
      ],
      "metadata": {
        "colab": {
          "base_uri": "https://localhost:8080/"
        },
        "id": "3CJjkvs_GlVl",
        "outputId": "4549cfd8-4156-4b62-ef30-75d3a08eaaba"
      },
      "execution_count": 15,
      "outputs": [
        {
          "output_type": "execute_result",
          "data": {
            "text/plain": [
              "tensor([0, 0, 0, 0, 0])"
            ]
          },
          "metadata": {},
          "execution_count": 15
        }
      ]
    },
    {
      "cell_type": "code",
      "source": [
        "g = torch.remainder(b,a)\n",
        "g"
      ],
      "metadata": {
        "colab": {
          "base_uri": "https://localhost:8080/"
        },
        "id": "GJ7n5rWmHCXr",
        "outputId": "50c1d436-b91b-4d6d-cb37-e36b60a3d45e"
      },
      "execution_count": 17,
      "outputs": [
        {
          "output_type": "execute_result",
          "data": {
            "text/plain": [
              "tensor([0, 0, 0, 0, 0])"
            ]
          },
          "metadata": {},
          "execution_count": 17
        }
      ]
    },
    {
      "cell_type": "code",
      "source": [
        "# exponents / power\n",
        "tensor_a = torch.pow(b,a)\n",
        "tensor_a"
      ],
      "metadata": {
        "colab": {
          "base_uri": "https://localhost:8080/"
        },
        "id": "ZBZATlpuHvZE",
        "outputId": "a02ae412-4832-4807-dc26-51f69d8af323"
      },
      "execution_count": 18,
      "outputs": [
        {
          "output_type": "execute_result",
          "data": {
            "text/plain": [
              "tensor([         20,        1600,      216000,    40960000, 10000000000])"
            ]
          },
          "metadata": {},
          "execution_count": 18
        }
      ]
    },
    {
      "cell_type": "code",
      "source": [
        "# Other way to do the math operation\n",
        "a.add(b)"
      ],
      "metadata": {
        "colab": {
          "base_uri": "https://localhost:8080/"
        },
        "id": "56BumDFCIWSV",
        "outputId": "baa36079-57fb-4156-8e68-845d2d4cc394"
      },
      "execution_count": 19,
      "outputs": [
        {
          "output_type": "execute_result",
          "data": {
            "text/plain": [
              "tensor([ 21,  42,  63,  84, 105])"
            ]
          },
          "metadata": {},
          "execution_count": 19
        }
      ]
    },
    {
      "cell_type": "code",
      "source": [
        "# Reassignment\n",
        " # a = a + b  , way 1 OR\n",
        "\n",
        " # Using the underscore sign\n",
        "a.add_(b)"
      ],
      "metadata": {
        "colab": {
          "base_uri": "https://localhost:8080/"
        },
        "id": "y7Ca_m05I4CK",
        "outputId": "191f99e0-7c00-49fc-87e1-76d5d464245e"
      },
      "execution_count": 22,
      "outputs": [
        {
          "output_type": "execute_result",
          "data": {
            "text/plain": [
              "tensor([ 21,  42,  63,  84, 105])"
            ]
          },
          "metadata": {},
          "execution_count": 22
        }
      ]
    },
    {
      "cell_type": "code",
      "source": [
        "a"
      ],
      "metadata": {
        "colab": {
          "base_uri": "https://localhost:8080/"
        },
        "id": "sAzkEr4IJJX4",
        "outputId": "2612c898-c986-45f5-95b5-a3e6c7cb2b69"
      },
      "execution_count": 23,
      "outputs": [
        {
          "output_type": "execute_result",
          "data": {
            "text/plain": [
              "tensor([ 21,  42,  63,  84, 105])"
            ]
          },
          "metadata": {},
          "execution_count": 23
        }
      ]
    }
  ]
}