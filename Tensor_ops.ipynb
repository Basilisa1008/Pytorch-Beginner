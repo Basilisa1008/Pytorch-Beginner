{
  "nbformat": 4,
  "nbformat_minor": 0,
  "metadata": {
    "colab": {
      "provenance": [],
      "authorship_tag": "ABX9TyNR0hcsKe9POfZJXfTjVG+O",
      "include_colab_link": true
    },
    "kernelspec": {
      "name": "python3",
      "display_name": "Python 3"
    },
    "language_info": {
      "name": "python"
    }
  },
  "cells": [
    {
      "cell_type": "markdown",
      "metadata": {
        "id": "view-in-github",
        "colab_type": "text"
      },
      "source": [
        "<a href=\"https://colab.research.google.com/github/Basilisa1008/Pytorch-Beginner/blob/main/Tensor_ops.ipynb\" target=\"_parent\"><img src=\"https://colab.research.google.com/assets/colab-badge.svg\" alt=\"Open In Colab\"/></a>"
      ]
    },
    {
      "cell_type": "markdown",
      "source": [
        "***Tensor Operation***"
      ],
      "metadata": {
        "id": "YZrS_FlY-8sZ"
      }
    },
    {
      "cell_type": "code",
      "execution_count": 1,
      "metadata": {
        "id": "fIk_tCsu-4Og"
      },
      "outputs": [],
      "source": [
        "import torch"
      ]
    },
    {
      "cell_type": "markdown",
      "source": [
        "***arange()*** : ***it generates a sequence*** (A digital counter where you control), a sequence in a sense that basically a sequence of numbers with specific start, end, and step values (similar to counting but with more control)\n",
        "                Syntax : ***arange(start,end,step)***\n",
        " - Where to start counting\n",
        " - Where to stop counting\n",
        " - How much to increment each time"
      ],
      "metadata": {
        "id": "hgArbVZSJIZf"
      }
    },
    {
      "cell_type": "code",
      "source": [
        "#creates a 1-dimensional tensor containing numbers from 0 to 9:\n",
        "torch_1 = torch.arange(10)\n",
        "torch_1"
      ],
      "metadata": {
        "colab": {
          "base_uri": "https://localhost:8080/"
        },
        "id": "BM_GvhBw_eHf",
        "outputId": "3a56e4cc-bd79-4c6d-d6dc-5fdff9b2ec55"
      },
      "execution_count": 3,
      "outputs": [
        {
          "output_type": "execute_result",
          "data": {
            "text/plain": [
              "tensor([0, 1, 2, 3, 4, 5, 6, 7, 8, 9])"
            ]
          },
          "metadata": {},
          "execution_count": 3
        }
      ]
    },
    {
      "cell_type": "markdown",
      "source": [
        "***Reshape***\n",
        "- Preserves all the original values.\n",
        "- It changes only how they're arranged.\n",
        "- It must maintain the same total number of elements (in this case, 2 × 5 = 10)\n",
        "- Fills the new shape row by row from left to right\n",
        "\n",
        "***Question: Why reshape(2,3) failed ?***\n",
        "\n",
        " ***Answer***\n",
        "  - The key rule with reshape is that the total number of elements must stay the same. In your case:\n",
        " - Original tensor has 10 elements where for 2×3 matrix would have 2 × 3 = 6 elements hence this is impossible because you can't fit 10 elements into 6 spaces\n",
        " - It's like trying to pour 10 ounces of water into a 6-ounce container - it simply won't fit!"
      ],
      "metadata": {
        "id": "_rqLU1F4B33P"
      }
    },
    {
      "cell_type": "code",
      "source": [
        "# How to rechape using reshape and view\n",
        "#reorganizes these 10 numbers into a 2×5 matrix\n",
        "torch_1 = torch_1.reshape(2,5)\n",
        "torch_1"
      ],
      "metadata": {
        "colab": {
          "base_uri": "https://localhost:8080/"
        },
        "id": "YuyBaLFQ_6lg",
        "outputId": "911b90c7-b3bd-4ca3-db14-8bc5faa461c1"
      },
      "execution_count": 6,
      "outputs": [
        {
          "output_type": "execute_result",
          "data": {
            "text/plain": [
              "tensor([[0, 1, 2, 3, 4],\n",
              "        [5, 6, 7, 8, 9]])"
            ]
          },
          "metadata": {},
          "execution_count": 6
        }
      ]
    },
    {
      "cell_type": "markdown",
      "source": [
        "***Remember this ***: The **-1** is like telling PyTorch: ***\"You figure out what this dimension should be to make everything fit.\"***\n",
        "- It's particularly useful when you:\n",
        "  - Don't know the exact size of your tensor\n",
        "  - Want to flatten a tensor (convert to 1D)\n",
        "  - Want to reshape while keeping one dimension fixed"
      ],
      "metadata": {
        "id": "DFWpqYpnF4HZ"
      }
    },
    {
      "cell_type": "code",
      "source": [
        "# Reshaping when we are not aware of number of elements dealt with using -1\n",
        "torch_1 = torch_1.reshape(2,-1)\n",
        "torch_1"
      ],
      "metadata": {
        "colab": {
          "base_uri": "https://localhost:8080/"
        },
        "id": "xqCiJqzgEU9Q",
        "outputId": "4dd075be-0426-4e94-b3b2-a1309169ad07"
      },
      "execution_count": 7,
      "outputs": [
        {
          "output_type": "execute_result",
          "data": {
            "text/plain": [
              "tensor([[0, 1, 2, 3, 4],\n",
              "        [5, 6, 7, 8, 9]])"
            ]
          },
          "metadata": {},
          "execution_count": 7
        }
      ]
    },
    {
      "cell_type": "code",
      "source": [
        "torch_1 = torch_1.reshape(-1,5)\n",
        "torch_1"
      ],
      "metadata": {
        "colab": {
          "base_uri": "https://localhost:8080/"
        },
        "id": "yc7hVrdOGzRg",
        "outputId": "de62cc5c-031e-4090-ca75-1a43201d7a3b"
      },
      "execution_count": 8,
      "outputs": [
        {
          "output_type": "execute_result",
          "data": {
            "text/plain": [
              "tensor([[0, 1, 2, 3, 4],\n",
              "        [5, 6, 7, 8, 9]])"
            ]
          },
          "metadata": {},
          "execution_count": 8
        }
      ]
    },
    {
      "cell_type": "markdown",
      "source": [
        "***view()***\n",
        "- It only works with contiguous tensors\n",
        "- It shares memory with the original tensor\n",
        "- It's generally faster than reshape (when it works)\n",
        "- Changes to the view affect the original tensor"
      ],
      "metadata": {
        "id": "60Y50MbeH65W"
      }
    },
    {
      "cell_type": "code",
      "source": [
        "x = torch.arange(12)\n",
        "x"
      ],
      "metadata": {
        "colab": {
          "base_uri": "https://localhost:8080/"
        },
        "id": "nEP0gz4OH5nI",
        "outputId": "f521e7be-cdb2-4f85-c837-50c862491068"
      },
      "execution_count": 9,
      "outputs": [
        {
          "output_type": "execute_result",
          "data": {
            "text/plain": [
              "tensor([ 0,  1,  2,  3,  4,  5,  6,  7,  8,  9, 10, 11])"
            ]
          },
          "metadata": {},
          "execution_count": 9
        }
      ]
    },
    {
      "cell_type": "code",
      "source": [
        "x = x.view(3,-1)\n",
        "x"
      ],
      "metadata": {
        "colab": {
          "base_uri": "https://localhost:8080/"
        },
        "id": "UE9tKif2LAi4",
        "outputId": "246d0093-f938-45a1-d72a-12de8afd87f4"
      },
      "execution_count": 11,
      "outputs": [
        {
          "output_type": "execute_result",
          "data": {
            "text/plain": [
              "tensor([[ 0,  1,  2,  3],\n",
              "        [ 4,  5,  6,  7],\n",
              "        [ 8,  9, 10, 11]])"
            ]
          },
          "metadata": {},
          "execution_count": 11
        }
      ]
    },
    {
      "cell_type": "markdown",
      "source": [
        "Differences between reshape() and view()\n",
        "- Memory Continuity\n",
        "- Sharing Memory\n",
        "\n",
        "\n",
        "***Use when***\n",
        "- Use view() when you know your tensor is contiguous and want to ensure memory sharing\n",
        "- Use reshape() when you're unsure about tensor continuity or don't need memory sharing\n",
        "\n",
        "***Point to take (Contigous Vs Non-Contiguous)***\n",
        "- A tensor is considered*** \"contiguous\" ***when its elements are stored in memory in a continuous, unbroken sequence. This means that the elements are laid out one after the other, without any gaps or empty spaces between them.\n",
        "- A ***\"non-contiguous\"*** tensor, on the other hand, is a tensor where the elements are not stored in a continuous sequence in memory. This could happen if you, for example, take a 2D tensor and transpose it (swap the rows and columns), or if you select a subset of the elements from a tensor.\n",
        "     - Example the tensor was [1,2,3,4,5,6,7,8,9,10,11,12,13,14,15,16]\n",
        "     we take the even numbers out it turns into [1,3,5,7,9,11,15]- non contigous tensor since it has gaps in it"
      ],
      "metadata": {
        "id": "YN0vQMOmLV22"
      }
    },
    {
      "cell_type": "code",
      "source": [
        "# Memory continuity\n",
        "y = torch.arange(12).reshape(3,4)\n",
        "y_nonconti = y.transpose(0,1) # make the tensor non-contigous\n",
        "\n",
        "reshaped_y = y_nonconti.reshape(-1,3)\n",
        "\n",
        "reshaped_y"
      ],
      "metadata": {
        "colab": {
          "base_uri": "https://localhost:8080/"
        },
        "id": "RGARO5vWLbIv",
        "outputId": "34076df6-292b-4e31-a0b5-4d506e02ead4"
      },
      "execution_count": 15,
      "outputs": [
        {
          "output_type": "execute_result",
          "data": {
            "text/plain": [
              "tensor([[ 0,  4,  8],\n",
              "        [ 1,  5,  9],\n",
              "        [ 2,  6, 10],\n",
              "        [ 3,  7, 11]])"
            ]
          },
          "metadata": {},
          "execution_count": 15
        }
      ]
    },
    {
      "cell_type": "code",
      "source": [
        "reshaped_y = y_nonconti.view(3,-1)\n",
        "reshaped_y"
      ],
      "metadata": {
        "colab": {
          "base_uri": "https://localhost:8080/",
          "height": 176
        },
        "id": "bwwe2MPQSBez",
        "outputId": "93d6fd45-b42a-4507-f148-08679e3c7a9a"
      },
      "execution_count": 16,
      "outputs": [
        {
          "output_type": "error",
          "ename": "RuntimeError",
          "evalue": "view size is not compatible with input tensor's size and stride (at least one dimension spans across two contiguous subspaces). Use .reshape(...) instead.",
          "traceback": [
            "\u001b[0;31m---------------------------------------------------------------------------\u001b[0m",
            "\u001b[0;31mRuntimeError\u001b[0m                              Traceback (most recent call last)",
            "\u001b[0;32m<ipython-input-16-fdab0fe0f64d>\u001b[0m in \u001b[0;36m<cell line: 1>\u001b[0;34m()\u001b[0m\n\u001b[0;32m----> 1\u001b[0;31m \u001b[0mreshaped_y\u001b[0m \u001b[0;34m=\u001b[0m \u001b[0my_nonconti\u001b[0m\u001b[0;34m.\u001b[0m\u001b[0mview\u001b[0m\u001b[0;34m(\u001b[0m\u001b[0;36m3\u001b[0m\u001b[0;34m,\u001b[0m\u001b[0;34m-\u001b[0m\u001b[0;36m1\u001b[0m\u001b[0;34m)\u001b[0m\u001b[0;34m\u001b[0m\u001b[0;34m\u001b[0m\u001b[0m\n\u001b[0m\u001b[1;32m      2\u001b[0m \u001b[0mreshaped_y\u001b[0m\u001b[0;34m\u001b[0m\u001b[0;34m\u001b[0m\u001b[0m\n",
            "\u001b[0;31mRuntimeError\u001b[0m: view size is not compatible with input tensor's size and stride (at least one dimension spans across two contiguous subspaces). Use .reshape(...) instead."
          ]
        }
      ]
    },
    {
      "cell_type": "code",
      "source": [
        "import torch"
      ],
      "metadata": {
        "id": "o-8FpHzcyKjb"
      },
      "execution_count": 3,
      "outputs": []
    },
    {
      "cell_type": "code",
      "source": [
        "# with reshape and view it will update the tensor\n",
        "z_tensor = torch.arange(15)\n",
        "z_tensor"
      ],
      "metadata": {
        "colab": {
          "base_uri": "https://localhost:8080/"
        },
        "id": "-aTSqvhbSS3v",
        "outputId": "3703519b-aa3e-4253-8949-a4daceb8a4f0"
      },
      "execution_count": 4,
      "outputs": [
        {
          "output_type": "execute_result",
          "data": {
            "text/plain": [
              "tensor([ 0,  1,  2,  3,  4,  5,  6,  7,  8,  9, 10, 11, 12, 13, 14])"
            ]
          },
          "metadata": {},
          "execution_count": 4
        }
      ]
    },
    {
      "cell_type": "code",
      "source": [
        "z_tensor = z_tensor.reshape(-1,5)\n",
        "z_tensor"
      ],
      "metadata": {
        "colab": {
          "base_uri": "https://localhost:8080/"
        },
        "id": "ifQ0RQkByQua",
        "outputId": "eecc2ae2-c41a-4a7e-be62-1aa9c5283efb"
      },
      "execution_count": 5,
      "outputs": [
        {
          "output_type": "execute_result",
          "data": {
            "text/plain": [
              "tensor([[ 0,  1,  2,  3,  4],\n",
              "        [ 5,  6,  7,  8,  9],\n",
              "        [10, 11, 12, 13, 14]])"
            ]
          },
          "metadata": {},
          "execution_count": 5
        }
      ]
    },
    {
      "cell_type": "code",
      "source": [
        "# If you want to access elements in a 2D tensor, you need two indices:\n",
        "# z_tensor[row_index, column_index]\n",
        "\n",
        "# To access element 9 you would use:\n",
        "z_tensor[1, 4]  # Second row (index 1), fifth column (index 4)\n",
        "\n",
        "# To set a value:\n",
        "z_tensor[1, 4] = 444\n",
        "z_tensor"
      ],
      "metadata": {
        "colab": {
          "base_uri": "https://localhost:8080/"
        },
        "id": "JsiAzSTMyfbp",
        "outputId": "5316306b-7977-45c9-afe1-784f4a2f890c"
      },
      "execution_count": 10,
      "outputs": [
        {
          "output_type": "execute_result",
          "data": {
            "text/plain": [
              "tensor([[  0,   1,   2,   3,   4],\n",
              "        [  5,   6,   7,   8, 444],\n",
              "        [ 10,  11,  12,  13,  14]])"
            ]
          },
          "metadata": {},
          "execution_count": 10
        }
      ]
    },
    {
      "cell_type": "code",
      "source": [
        "z1_tensor = z_tensor.reshape(5,3)\n",
        "z1_tensor"
      ],
      "metadata": {
        "colab": {
          "base_uri": "https://localhost:8080/"
        },
        "id": "A4-vHftl2ms0",
        "outputId": "b0043f8c-cf1f-4600-9bca-8f0702c390c4"
      },
      "execution_count": 11,
      "outputs": [
        {
          "output_type": "execute_result",
          "data": {
            "text/plain": [
              "tensor([[  0,   1,   2],\n",
              "        [  3,   4,   5],\n",
              "        [  6,   7,   8],\n",
              "        [444,  10,  11],\n",
              "        [ 12,  13,  14]])"
            ]
          },
          "metadata": {},
          "execution_count": 11
        }
      ]
    },
    {
      "cell_type": "code",
      "source": [
        "z1_tensor [2, 1] = 55\n",
        "z1_tensor"
      ],
      "metadata": {
        "colab": {
          "base_uri": "https://localhost:8080/"
        },
        "id": "l2ppoWXM2xtp",
        "outputId": "a7b1fc5d-4d38-46cd-db8b-9d957b291457"
      },
      "execution_count": 12,
      "outputs": [
        {
          "output_type": "execute_result",
          "data": {
            "text/plain": [
              "tensor([[  0,   1,   2],\n",
              "        [  3,   4,   5],\n",
              "        [  6,  55,   8],\n",
              "        [444,  10,  11],\n",
              "        [ 12,  13,  14]])"
            ]
          },
          "metadata": {},
          "execution_count": 12
        }
      ]
    },
    {
      "cell_type": "code",
      "source": [
        "# notice the number 7 is changed to 55 on z1_tensor and the chages were also propagated to z_tensor\n",
        "#hence with reshape and view it will update the tensor\n",
        "z_tensor"
      ],
      "metadata": {
        "colab": {
          "base_uri": "https://localhost:8080/"
        },
        "id": "4oX-LWyZ3kG0",
        "outputId": "ac6eef73-089b-4bb8-9ca6-96087c5d6736"
      },
      "execution_count": 13,
      "outputs": [
        {
          "output_type": "execute_result",
          "data": {
            "text/plain": [
              "tensor([[  0,   1,   2,   3,   4],\n",
              "        [  5,   6,  55,   8, 444],\n",
              "        [ 10,  11,  12,  13,  14]])"
            ]
          },
          "metadata": {},
          "execution_count": 13
        }
      ]
    },
    {
      "cell_type": "markdown",
      "source": [
        "***Slicing***\n",
        "\n",
        "The basic syntax : tensor[start:stop:step], where:\n",
        "\n",
        "- start: starting index (inclusive)\n",
        "- stop: ending index (exclusive)\n",
        "- step: how many items to skip between elements"
      ],
      "metadata": {
        "id": "VISlniv24584"
      }
    },
    {
      "cell_type": "code",
      "source": [
        "t = torch.arange(10)\n",
        "t"
      ],
      "metadata": {
        "colab": {
          "base_uri": "https://localhost:8080/"
        },
        "id": "z4w5lcua4y_r",
        "outputId": "3e679c3b-f7e1-4390-d3ca-7d3694970a61"
      },
      "execution_count": 14,
      "outputs": [
        {
          "output_type": "execute_result",
          "data": {
            "text/plain": [
              "tensor([0, 1, 2, 3, 4, 5, 6, 7, 8, 9])"
            ]
          },
          "metadata": {},
          "execution_count": 14
        }
      ]
    },
    {
      "cell_type": "code",
      "source": [
        "t = t.reshape(2,-1)\n",
        "t"
      ],
      "metadata": {
        "colab": {
          "base_uri": "https://localhost:8080/"
        },
        "id": "o-UputKk7H0c",
        "outputId": "bf236d3c-d258-4e5c-c4e3-a88a143990dc"
      },
      "execution_count": 15,
      "outputs": [
        {
          "output_type": "execute_result",
          "data": {
            "text/plain": [
              "tensor([[0, 1, 2, 3, 4],\n",
              "        [5, 6, 7, 8, 9]])"
            ]
          },
          "metadata": {},
          "execution_count": 15
        }
      ]
    },
    {
      "cell_type": "code",
      "source": [
        "# Grab a slice\n",
        "t[0, :]"
      ],
      "metadata": {
        "colab": {
          "base_uri": "https://localhost:8080/"
        },
        "id": "BB_v9LH67V7b",
        "outputId": "fa00df6b-5caf-4196-911a-aadbb08cd4ea"
      },
      "execution_count": 17,
      "outputs": [
        {
          "output_type": "execute_result",
          "data": {
            "text/plain": [
              "tensor([0, 1, 2, 3, 4])"
            ]
          },
          "metadata": {},
          "execution_count": 17
        }
      ]
    },
    {
      "cell_type": "code",
      "source": [
        "t = t[2:5]      # From index 2 to 4: [2,3,4]\n",
        "t"
      ],
      "metadata": {
        "colab": {
          "base_uri": "https://localhost:8080/"
        },
        "id": "AhTsaJ1i70xT",
        "outputId": "16adab21-6c6a-42ea-c55c-cf3f1dfae695"
      },
      "execution_count": 22,
      "outputs": [
        {
          "output_type": "execute_result",
          "data": {
            "text/plain": [
              "tensor([], size=(0, 5), dtype=torch.int64)"
            ]
          },
          "metadata": {},
          "execution_count": 22
        }
      ]
    }
  ]
}