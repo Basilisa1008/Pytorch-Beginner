{
  "nbformat": 4,
  "nbformat_minor": 0,
  "metadata": {
    "colab": {
      "provenance": [],
      "authorship_tag": "ABX9TyNb67/E+aqoQbXquTbasQBs",
      "include_colab_link": true
    },
    "kernelspec": {
      "name": "python3",
      "display_name": "Python 3"
    },
    "language_info": {
      "name": "python"
    }
  },
  "cells": [
    {
      "cell_type": "markdown",
      "metadata": {
        "id": "view-in-github",
        "colab_type": "text"
      },
      "source": [
        "<a href=\"https://colab.research.google.com/github/Basilisa1008/Pytorch-Beginner/blob/main/Tensors.ipynb\" target=\"_parent\"><img src=\"https://colab.research.google.com/assets/colab-badge.svg\" alt=\"Open In Colab\"/></a>"
      ]
    },
    {
      "cell_type": "markdown",
      "source": [
        "**Tensors** - simply as numpy array or python list, Just like how in Machine learning you use numpy array to store things in Deep Learning it makes use of Tensors\n",
        "\n",
        "- They’re built to shine on GPUs, making deep learning super fast. 💡 apart from that **Tensors** are multi-dimensional matrix that contains elements of a single data type\n",
        "\n",
        "- The defauly data type for Tensors is Float32\n",
        "\n",
        "- Key feature: They enable automatic differentiation, which powers backpropagation in neural networks."
      ],
      "metadata": {
        "id": "KaR5kHunVnXE"
      }
    },
    {
      "cell_type": "code",
      "execution_count": 1,
      "metadata": {
        "id": "KKxqJtA1Vdjn"
      },
      "outputs": [],
      "source": [
        "import torch"
      ]
    },
    {
      "cell_type": "code",
      "source": [
        "import numpy as np"
      ],
      "metadata": {
        "id": "OnWlpvEVY5Rz"
      },
      "execution_count": 2,
      "outputs": []
    },
    {
      "cell_type": "markdown",
      "source": [
        "***Lists***"
      ],
      "metadata": {
        "id": "LZNQmQDwZEgY"
      }
    },
    {
      "cell_type": "code",
      "source": [
        "the_list = [[44,55,77,88,33,22,11], [11,22,33,88,77,55,44]]\n",
        "the_list"
      ],
      "metadata": {
        "colab": {
          "base_uri": "https://localhost:8080/"
        },
        "id": "Jt1z_wLLZD-4",
        "outputId": "1654e373-2ce8-4b81-a45e-7d99c2751c63"
      },
      "execution_count": 5,
      "outputs": [
        {
          "output_type": "execute_result",
          "data": {
            "text/plain": [
              "[[44, 55, 77, 88, 33, 22, 11], [11, 22, 33, 88, 77, 55, 44]]"
            ]
          },
          "metadata": {},
          "execution_count": 5
        }
      ]
    },
    {
      "cell_type": "markdown",
      "source": [
        "***Numpy Array***"
      ],
      "metadata": {
        "id": "sgUcWLZIZPwP"
      }
    },
    {
      "cell_type": "code",
      "source": [
        "dimension = np.random.rand(3,2)\n",
        "dimension"
      ],
      "metadata": {
        "colab": {
          "base_uri": "https://localhost:8080/"
        },
        "id": "XdjX7-1AZM2A",
        "outputId": "9c5317ed-a056-43a3-9754-c9b8a48e2bae"
      },
      "execution_count": 6,
      "outputs": [
        {
          "output_type": "execute_result",
          "data": {
            "text/plain": [
              "array([[0.90667046, 0.42166114],\n",
              "       [0.86968087, 0.72588331],\n",
              "       [0.33973685, 0.74962237]])"
            ]
          },
          "metadata": {},
          "execution_count": 6
        }
      ]
    },
    {
      "cell_type": "markdown",
      "source": [
        "***Tensors***"
      ],
      "metadata": {
        "id": "OOAhAah1Zp0y"
      }
    },
    {
      "cell_type": "code",
      "source": [
        "tensor_2d = torch.randn(3,4)\n",
        "tensor_2d"
      ],
      "metadata": {
        "colab": {
          "base_uri": "https://localhost:8080/"
        },
        "id": "XRflhQ6tZogo",
        "outputId": "8e2a5e03-5f83-4bd8-c97d-c36b0c94ee29"
      },
      "execution_count": 8,
      "outputs": [
        {
          "output_type": "execute_result",
          "data": {
            "text/plain": [
              "tensor([[ 1.4297,  0.5853,  0.4231,  1.3476],\n",
              "        [ 0.4919,  1.4127,  1.9528,  0.5884],\n",
              "        [ 1.2640, -1.3731, -0.3627,  0.0682]])"
            ]
          },
          "metadata": {},
          "execution_count": 8
        }
      ]
    },
    {
      "cell_type": "code",
      "source": [
        "tensor_3d = torch.zeros(2,3,4)\n",
        "tensor_3d"
      ],
      "metadata": {
        "colab": {
          "base_uri": "https://localhost:8080/"
        },
        "id": "-mvTncEZc93G",
        "outputId": "f0ff2016-fff5-4f55-90b2-f59333e77526"
      },
      "execution_count": 9,
      "outputs": [
        {
          "output_type": "execute_result",
          "data": {
            "text/plain": [
              "tensor([[[0., 0., 0., 0.],\n",
              "         [0., 0., 0., 0.],\n",
              "         [0., 0., 0., 0.]],\n",
              "\n",
              "        [[0., 0., 0., 0.],\n",
              "         [0., 0., 0., 0.],\n",
              "         [0., 0., 0., 0.]]])"
            ]
          },
          "metadata": {},
          "execution_count": 9
        }
      ]
    },
    {
      "cell_type": "code",
      "source": [
        "# Creating a tensor out of numpy array\n",
        "my_tensor = torch.tensor(dimension)\n",
        "my_tensor"
      ],
      "metadata": {
        "colab": {
          "base_uri": "https://localhost:8080/"
        },
        "id": "LEJSLZJ0dRhN",
        "outputId": "0d960645-4940-49fd-a49c-06f158b08002"
      },
      "execution_count": 10,
      "outputs": [
        {
          "output_type": "execute_result",
          "data": {
            "text/plain": [
              "tensor([[0.9067, 0.4217],\n",
              "        [0.8697, 0.7259],\n",
              "        [0.3397, 0.7496]], dtype=torch.float64)"
            ]
          },
          "metadata": {},
          "execution_count": 10
        }
      ]
    }
  ]
}